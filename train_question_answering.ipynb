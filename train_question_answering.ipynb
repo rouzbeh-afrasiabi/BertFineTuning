{
 "cells": [
  {
   "cell_type": "code",
   "execution_count": 1,
   "metadata": {},
   "outputs": [],
   "source": [
    "from BertFineTuning.loader import *\n",
    "from BertFineTuning.loader_config import default_loader_config\n",
    "from BertFineTuning.question_answering import *\n",
    "from transformers.optimization import AdamW\n",
    "import torch\n",
    "%matplotlib inline"
   ]
  },
  {
   "cell_type": "code",
   "execution_count": 2,
   "metadata": {},
   "outputs": [],
   "source": [
    "BFT=BertFineTuning()"
   ]
  },
  {
   "cell_type": "code",
   "execution_count": 3,
   "metadata": {},
   "outputs": [],
   "source": [
    "BFT.criterion=nn.CrossEntropyLoss(ignore_index=-1)\n",
    "BFT.optimizer = AdamW(BFT.parameters_main)\n",
    "BFT.scheduler=torch.optim.lr_scheduler.StepLR(BFT.optimizer, step_size=10)"
   ]
  },
  {
   "cell_type": "code",
   "execution_count": 4,
   "metadata": {},
   "outputs": [],
   "source": [
    "dataloader_config={\n",
    "'train-v1.1_bert_ready':default_loader_config,\n",
    "'dev-v1.1_bert_ready':default_loader_config,\n",
    "'train-v2.0_bert_ready':default_loader_config,\n",
    "'dev-v2.0_bert_ready':default_loader_config\n",
    "}"
   ]
  },
  {
   "cell_type": "code",
   "execution_count": 5,
   "metadata": {},
   "outputs": [
    {
     "data": {
      "text/plain": [
       "{'num_classes': 2,\n",
       " 'dropout_prob': 0.1,\n",
       " 'in_features': 768,\n",
       " 'learning_rate_PT': 1e-05,\n",
       " 'learning_rate_CLS': 0.01,\n",
       " 'weight_decay': 0,\n",
       " 'max_token_length': 100,\n",
       " 'device': device(type='cuda', index=0)}"
      ]
     },
     "execution_count": 5,
     "metadata": {},
     "output_type": "execute_result"
    }
   ],
   "source": [
    "model_config"
   ]
  },
  {
   "cell_type": "code",
   "execution_count": 6,
   "metadata": {
    "scrolled": true
   },
   "outputs": [
    {
     "name": "stderr",
     "output_type": "stream",
     "text": [
      "WARNING - dev_v1_1_bert_ready.csv\n",
      "File does not have a valid  data loader configuration in dataloader_config, using default_loader_config.\n",
      "WARNING - dev_v2_0_bert_ready.csv\n",
      "File does not have a valid  data loader configuration in dataloader_config, using default_loader_config.\n",
      "WARNING - train_v1_1_bert_ready.csv\n",
      "File does not have a valid  data loader configuration in dataloader_config, using default_loader_config.\n",
      "WARNING - train_v2_0_bert_ready.csv\n",
      "File does not have a valid  data loader configuration in dataloader_config, using default_loader_config.\n"
     ]
    }
   ],
   "source": [
    "cwd = os.getcwd()\n",
    "processed_data_folder=os.path.join(cwd,'data','processed')\n",
    "ml=MultiLoader(processed_data_folder,dataloader_config,model_config)"
   ]
  },
  {
   "cell_type": "code",
   "execution_count": 7,
   "metadata": {},
   "outputs": [],
   "source": [
    "# model_config={'num_classes': 2,\n",
    "#  'dropout_prob': 0.1,\n",
    "#  'in_features': 768,\n",
    "#  'learning_rate_PT': 1e-05,\n",
    "#  'learning_rate_CLS': 1e-2,\n",
    "#  'weight_decay': 0,\n",
    "#  'max_token_length': 100,\n",
    "#  'device': device}"
   ]
  },
  {
   "cell_type": "code",
   "execution_count": 15,
   "metadata": {
    "scrolled": true
   },
   "outputs": [
    {
     "name": "stdout",
     "output_type": "stream",
     "text": [
      "epoch:  1  step:  1 / 4\n",
      "Batch Loss:  4.578687\n",
      "train results: \n",
      "\n",
      "{0.0: 'Poor', 1.0: 'Poor'}\n",
      "MCC:  {0.0: 0.00642064206420642, 1.0: 0.00642064206420642}\n",
      "Accuracy:  {0.0: 0.9803271287128713, 1.0: 0.9803271287128713}\n",
      "{'F1 Macro ': 0.5032103210321032} {'F1 Micro': 0.9803271287128713}\n",
      "{'F1 ': {0.0: 0.9900642064206421, 1.0: 0.016356435643564357}}\n",
      "Precision:  {0.0: 0.9900642064206421, 1.0: 0.016356435643564357}\n",
      "recall:  {0.0: 0.9900642064206421, 1.0: 0.016356435643564357}\n",
      "Predict       0.0           1.0           \n",
      "Actual\n",
      "0.0           9899652       99348         \n",
      "\n",
      "1.0           99348         1652          \n",
      "\n",
      "\n",
      "epoch:  1  step:  2 / 4\n",
      "Batch Loss:  4.2445545\n",
      "train results: \n",
      "\n",
      "{0.0: 'Poor', 1.0: 'Poor'}\n",
      "MCC:  {0.0: 0.012971297129712971, 1.0: 0.012971297129712971}\n",
      "Accuracy:  {0.0: 0.9804568316831683, 1.0: 0.9804568316831683}\n",
      "{'F1 Macro ': 0.5064856485648564} {'F1 Micro': 0.9804568316831683}\n",
      "{'F1 ': {0.0: 0.9901297129712971, 1.0: 0.02284158415841584}}\n",
      "Precision:  {0.0: 0.9901297129712971, 1.0: 0.02284158415841584}\n",
      "recall:  {0.0: 0.9901297129712971, 1.0: 0.02284158415841584}\n",
      "Predict       0.0           1.0           \n",
      "Actual\n",
      "0.0           9900307       98693         \n",
      "\n",
      "1.0           98693         2307          \n",
      "\n",
      "\n",
      "epoch:  1  step:  3 / 4\n",
      "Batch Loss:  4.22584\n",
      "train results: \n",
      "\n",
      "{0.0: 'Poor', 1.0: 'Poor'}\n",
      "MCC:  {0.0: 0.013051305130513051, 1.0: 0.013051305130513051}\n",
      "Accuracy:  {0.0: 0.9804584158415841, 1.0: 0.9804584158415841}\n",
      "{'F1 Macro ': 0.5065256525652565} {'F1 Micro': 0.9804584158415841}\n",
      "{'F1 ': {0.0: 0.9901305130513052, 1.0: 0.02292079207920792}}\n",
      "Precision:  {0.0: 0.9901305130513052, 1.0: 0.02292079207920792}\n",
      "recall:  {0.0: 0.9901305130513052, 1.0: 0.02292079207920792}\n",
      "Predict       0.0           1.0           \n",
      "Actual\n",
      "0.0           9900315       98685         \n",
      "\n",
      "1.0           98685         2315          \n",
      "\n",
      "\n",
      "epoch:  1  step:  4 / 4\n",
      "Batch Loss:  4.197625\n",
      "train results: \n",
      "\n",
      "{0.0: 'Poor', 1.0: 'Poor'}\n",
      "MCC:  {0.0: 0.014781478147814782, 1.0: 0.014781478147814782}\n",
      "Accuracy:  {0.0: 0.9804926732673267, 1.0: 0.9804926732673267}\n",
      "{'F1 Macro ': 0.5073907390739074} {'F1 Micro': 0.9804926732673267}\n",
      "{'F1 ': {0.0: 0.9901478147814782, 1.0: 0.024633663366336635}}\n",
      "Precision:  {0.0: 0.9901478147814782, 1.0: 0.024633663366336635}\n",
      "recall:  {0.0: 0.9901478147814782, 1.0: 0.024633663366336635}\n",
      "Predict       0.0           1.0           \n",
      "Actual\n",
      "0.0           9900488       98512         \n",
      "\n",
      "1.0           98512         2488          \n",
      "\n",
      "\n",
      "epoch:  1 Train  Loss:  4.2896934 \n",
      "\n",
      "epoch:  2  step:  1 / 4\n",
      "Batch Loss:  3.8328607\n",
      "train results: \n",
      "\n",
      "{0.0: 'Poor', 1.0: 'Poor'}\n",
      "MCC:  {0.0: 0.027069847165160907, 1.0: 0.027069847165160907}\n",
      "Accuracy:  {0.0: 0.9807359829738702, 1.0: 0.9807359829738702}\n",
      "{'F1 Macro ': 0.5135349235825805} {'F1 Micro': 0.9807359829738702}\n",
      "{'F1 ': {0.0: 0.9902706984716516, 1.0: 0.036799148693509295}}\n",
      "Precision:  {0.0: 0.9902706984716516, 1.0: 0.036799148693509295}\n",
      "recall:  {0.0: 0.9902706984716516, 1.0: 0.036799148693509295}\n",
      "Predict        0.0            1.0            \n",
      "Actual\n",
      "0.0            38509639       378353         \n",
      "\n",
      "1.0            378353         14455          \n",
      "\n",
      "\n",
      "epoch:  2  step:  2 / 4\n",
      "Batch Loss:  3.8421\n",
      "train results: \n",
      "\n",
      "{0.0: 'Poor', 1.0: 'Poor'}\n",
      "MCC:  {0.0: 0.07266726672667266, 1.0: 0.07266726672667266}\n",
      "Accuracy:  {0.0: 0.9816388118811881, 1.0: 0.9816388118811881}\n",
      "{'F1 Macro ': 0.5363336333633364} {'F1 Micro': 0.9816388118811881}\n",
      "{'F1 ': {0.0: 0.9907266726672668, 1.0: 0.08194059405940594}}\n",
      "Precision:  {0.0: 0.9907266726672668, 1.0: 0.08194059405940594}\n",
      "recall:  {0.0: 0.9907266726672668, 1.0: 0.08194059405940594}\n",
      "Predict       0.0           1.0           \n",
      "Actual\n",
      "0.0           9906276       92724         \n",
      "\n",
      "1.0           92724         8276          \n",
      "\n",
      "\n",
      "epoch:  2  step:  3 / 4\n",
      "Batch Loss:  3.8934786\n",
      "train results: \n",
      "\n",
      "{0.0: 'Poor', 1.0: 'Poor'}\n",
      "MCC:  {0.0: 0.061406140614061404, 1.0: 0.061406140614061404}\n",
      "Accuracy:  {0.0: 0.9814158415841584, 1.0: 0.9814158415841584}\n",
      "{'F1 Macro ': 0.5307030703070307} {'F1 Micro': 0.9814158415841584}\n",
      "{'F1 ': {0.0: 0.9906140614061406, 1.0: 0.07079207920792079}}\n",
      "Precision:  {0.0: 0.9906140614061406, 1.0: 0.07079207920792079}\n",
      "recall:  {0.0: 0.9906140614061406, 1.0: 0.07079207920792079}\n",
      "Predict       0.0           1.0           \n",
      "Actual\n",
      "0.0           9905150       93850         \n",
      "\n",
      "1.0           93850         7150          \n",
      "\n",
      "\n",
      "epoch:  2  step:  4 / 4\n",
      "Batch Loss:  3.9462557\n",
      "train results: \n",
      "\n",
      "{0.0: 'Poor', 1.0: 'Poor'}\n",
      "MCC:  {0.0: 0.07122712271227123, 1.0: 0.07122712271227123}\n",
      "Accuracy:  {0.0: 0.9816102970297029, 1.0: 0.9816102970297029}\n",
      "{'F1 Macro ': 0.5356135613561356} {'F1 Micro': 0.9816102970297029}\n",
      "{'F1 ': {0.0: 0.9907122712271227, 1.0: 0.08051485148514852}}\n",
      "Precision:  {0.0: 0.9907122712271227, 1.0: 0.08051485148514852}\n",
      "recall:  {0.0: 0.9907122712271227, 1.0: 0.08051485148514852}\n",
      "Predict       0.0           1.0           \n",
      "Actual\n",
      "0.0           9906132       92868         \n",
      "\n",
      "1.0           92868         8132          \n",
      "\n",
      "\n",
      "epoch:  2 Train  Loss:  3.8844683 \n",
      "\n",
      "epoch:  3  step:  1 / 4\n",
      "Batch Loss:  2.3262775\n",
      "train results: \n",
      "\n",
      "{0.0: 'Poor', 1.0: 'Poor'}\n",
      "MCC:  {0.0: 0.14776777366133997, 1.0: 0.14776777366133997}\n",
      "Accuracy:  {0.0: 0.9831258019184945, 1.0: 0.9831258019184945}\n",
      "{'F1 Macro ': 0.57388388683067} {'F1 Micro': 0.9831258019184945}\n",
      "{'F1 ': {0.0: 0.9914776777366134, 1.0: 0.1562900959247266}}\n",
      "Precision:  {0.0: 0.9914776777366134, 1.0: 0.1562900959247266}\n",
      "recall:  {0.0: 0.9914776777366134, 1.0: 0.1562900959247266}\n",
      "Predict        0.0            1.0            \n",
      "Actual\n",
      "0.0            38556576       331416         \n",
      "\n",
      "1.0            331416         61392          \n",
      "\n",
      "\n",
      "epoch:  3  step:  2 / 4\n",
      "Batch Loss:  2.6336987\n",
      "train results: \n",
      "\n",
      "{0.0: 'Fair', 1.0: 'Fair'}\n",
      "MCC:  {0.0: 0.3704170417041704, 1.0: 0.3704170417041704}\n",
      "Accuracy:  {0.0: 0.9875342574257425, 1.0: 0.9875342574257425}\n",
      "{'F1 Macro ': 0.6852085208520853} {'F1 Micro': 0.9875342574257425}\n",
      "{'F1 ': {0.0: 0.9937041704170417, 1.0: 0.3767128712871287}}\n",
      "Precision:  {0.0: 0.9937041704170417, 1.0: 0.3767128712871287}\n",
      "recall:  {0.0: 0.9937041704170417, 1.0: 0.3767128712871287}\n",
      "Predict       0.0           1.0           \n",
      "Actual\n",
      "0.0           9936048       62952         \n",
      "\n",
      "1.0           62952         38048         \n",
      "\n",
      "\n",
      "epoch:  3  step:  3 / 4\n",
      "Batch Loss:  2.777456\n",
      "train results: \n",
      "\n",
      "{0.0: 'Fair', 1.0: 'Fair'}\n",
      "MCC:  {0.0: 0.3326032603260326, 1.0: 0.3326032603260326}\n",
      "Accuracy:  {0.0: 0.9867855445544554, 1.0: 0.9867855445544554}\n",
      "{'F1 Macro ': 0.6663016301630164} {'F1 Micro': 0.9867855445544554}\n",
      "{'F1 ': {0.0: 0.9933260326032604, 1.0: 0.3392772277227723}}\n",
      "Precision:  {0.0: 0.9933260326032604, 1.0: 0.3392772277227723}\n",
      "recall:  {0.0: 0.9933260326032604, 1.0: 0.3392772277227723}\n",
      "Predict       0.0           1.0           \n",
      "Actual\n",
      "0.0           9932267       66733         \n",
      "\n",
      "1.0           66733         34267         \n",
      "\n",
      "\n",
      "epoch:  3  step:  4 / 4\n",
      "Batch Loss:  2.8830686\n",
      "train results: \n",
      "\n",
      "{0.0: 'Fair', 1.0: 'Fair'}\n",
      "MCC:  {0.0: 0.29294929492949295, 1.0: 0.29294929492949295}\n",
      "Accuracy:  {0.0: 0.986000396039604, 1.0: 0.986000396039604}\n",
      "{'F1 Macro ': 0.6464746474647465} {'F1 Micro': 0.986000396039604}\n",
      "{'F1 ': {0.0: 0.9929294929492949, 1.0: 0.300019801980198}}\n",
      "Precision:  {0.0: 0.9929294929492949, 1.0: 0.300019801980198}\n",
      "recall:  {0.0: 0.9929294929492949, 1.0: 0.300019801980198}\n",
      "Predict       0.0           1.0           \n",
      "Actual\n",
      "0.0           9928302       70698         \n",
      "\n",
      "1.0           70698         30302         \n",
      "\n",
      "\n",
      "epoch:  3 Train  Loss:  2.716039 \n",
      "\n",
      "epoch:  4  step:  1 / 4\n",
      "Batch Loss:  1.0649664\n",
      "train results: \n",
      "\n",
      "{0.0: 'Good', 1.0: 'Good'}\n",
      "MCC:  {0.0: 0.4038313935057382, 1.0: 0.4038313935057382}\n",
      "Accuracy:  {0.0: 0.9881958615914136, 1.0: 0.9881958615914136}\n",
      "{'F1 Macro ': 0.7019156967528691} {'F1 Micro': 0.9881958615914136}\n",
      "{'F1 ': {0.0: 0.9940383139350574, 1.0: 0.40979307957068084}}\n",
      "Precision:  {0.0: 0.9940383139350574, 1.0: 0.40979307957068084}\n",
      "recall:  {0.0: 0.9940383139350574, 1.0: 0.40979307957068084}\n",
      "Predict        0.0            1.0            \n",
      "Actual\n",
      "0.0            38656154       231838         \n",
      "\n",
      "1.0            231838         160970         \n",
      "\n",
      "\n",
      "epoch:  4  step:  2 / 4\n",
      "Batch Loss:  1.3364052\n",
      "train results: \n",
      "\n",
      "{0.0: 'Very Good', 1.0: 'Very Good'}\n",
      "MCC:  {0.0: 0.7348334833483349, 1.0: 0.7348334833483349}\n",
      "Accuracy:  {0.0: 0.9947497029702971, 1.0: 0.9947497029702971}\n",
      "{'F1 Macro ': 0.8674167416741674} {'F1 Micro': 0.9947497029702971}\n",
      "{'F1 ': {0.0: 0.9973483348334834, 1.0: 0.7374851485148515}}\n",
      "Precision:  {0.0: 0.9973483348334834, 1.0: 0.7374851485148515}\n",
      "recall:  {0.0: 0.9973483348334834, 1.0: 0.7374851485148515}\n",
      "Predict       0.0           1.0           \n",
      "Actual\n",
      "0.0           9972486       26514         \n",
      "\n",
      "1.0           26514         74486         \n",
      "\n",
      "\n"
     ]
    },
    {
     "name": "stdout",
     "output_type": "stream",
     "text": [
      "epoch:  4  step:  3 / 4\n",
      "Batch Loss:  1.4991251\n",
      "train results: \n",
      "\n",
      "{0.0: 'Very Good', 1.0: 'Very Good'}\n",
      "MCC:  {0.0: 0.6935893589358936, 1.0: 0.6935893589358936}\n",
      "Accuracy:  {0.0: 0.9939330693069307, 1.0: 0.9939330693069307}\n",
      "{'F1 Macro ': 0.8467946794679468} {'F1 Micro': 0.9939330693069307}\n",
      "{'F1 ': {0.0: 0.996935893589359, 1.0: 0.6966534653465346}}\n",
      "Precision:  {0.0: 0.996935893589359, 1.0: 0.6966534653465346}\n",
      "recall:  {0.0: 0.996935893589359, 1.0: 0.6966534653465346}\n",
      "Predict       0.0           1.0           \n",
      "Actual\n",
      "0.0           9968362       30638         \n",
      "\n",
      "1.0           30638         70362         \n",
      "\n",
      "\n",
      "epoch:  4  step:  4 / 4\n",
      "Batch Loss:  1.6135665\n",
      "train results: \n",
      "\n",
      "{0.0: 'Very Good', 1.0: 'Very Good'}\n",
      "MCC:  {0.0: 0.6532453245324532, 1.0: 0.6532453245324532}\n",
      "Accuracy:  {0.0: 0.9931342574257426, 1.0: 0.9931342574257426}\n",
      "{'F1 Macro ': 0.8266226622662267} {'F1 Micro': 0.9931342574257426}\n",
      "{'F1 ': {0.0: 0.9965324532453246, 1.0: 0.6567128712871287}}\n",
      "Precision:  {0.0: 0.9965324532453246, 1.0: 0.6567128712871287}\n",
      "recall:  {0.0: 0.9965324532453246, 1.0: 0.6567128712871287}\n",
      "Predict       0.0           1.0           \n",
      "Actual\n",
      "0.0           9964328       34672         \n",
      "\n",
      "1.0           34672         66328         \n",
      "\n",
      "\n",
      "epoch:  4 Train  Loss:  1.431368 \n",
      "\n",
      "epoch:  5  step:  1 / 4\n",
      "Batch Loss:  0.83206207\n",
      "train results: \n",
      "\n",
      "{0.0: 'Very Good', 1.0: 'Very Good'}\n",
      "MCC:  {0.0: 0.6900585661507027, 1.0: 0.6900585661507027}\n",
      "Accuracy:  {0.0: 0.9938631596097839, 1.0: 0.9938631596097839}\n",
      "{'F1 Macro ': 0.8450292830753514} {'F1 Micro': 0.9938631596097839}\n",
      "{'F1 ': {0.0: 0.9969005856615071, 1.0: 0.6931579804891957}}\n",
      "Precision:  {0.0: 0.9969005856615071, 1.0: 0.6931579804891957}\n",
      "recall:  {0.0: 0.9969005856615071, 1.0: 0.6931579804891957}\n",
      "Predict        0.0            1.0            \n",
      "Actual\n",
      "0.0            38767462       120530         \n",
      "\n",
      "1.0            120530         272278         \n",
      "\n",
      "\n",
      "epoch:  5  step:  2 / 4\n",
      "Batch Loss:  0.9211963\n",
      "train results: \n",
      "\n",
      "{0.0: 'Excellent', 1.0: 'Excellent'}\n",
      "MCC:  {0.0: 0.8122512251225122, 1.0: 0.8122512251225122}\n",
      "Accuracy:  {0.0: 0.9962825742574257, 1.0: 0.9962825742574257}\n",
      "{'F1 Macro ': 0.9061256125612561} {'F1 Micro': 0.9962825742574257}\n",
      "{'F1 ': {0.0: 0.9981225122512252, 1.0: 0.8141287128712871}}\n",
      "Precision:  {0.0: 0.9981225122512252, 1.0: 0.8141287128712871}\n",
      "recall:  {0.0: 0.9981225122512252, 1.0: 0.8141287128712871}\n",
      "Predict       0.0           1.0           \n",
      "Actual\n",
      "0.0           9980227       18773         \n",
      "\n",
      "1.0           18773         82227         \n",
      "\n",
      "\n",
      "epoch:  5  step:  3 / 4\n",
      "Batch Loss:  1.030085\n",
      "train results: \n",
      "\n",
      "{0.0: 'Very Good', 1.0: 'Very Good'}\n",
      "MCC:  {0.0: 0.773067306730673, 1.0: 0.773067306730673}\n",
      "Accuracy:  {0.0: 0.9955067326732673, 1.0: 0.9955067326732673}\n",
      "{'F1 Macro ': 0.8865336533653365} {'F1 Micro': 0.9955067326732673}\n",
      "{'F1 ': {0.0: 0.9977306730673068, 1.0: 0.7753366336633664}}\n",
      "Precision:  {0.0: 0.9977306730673068, 1.0: 0.7753366336633664}\n",
      "recall:  {0.0: 0.9977306730673068, 1.0: 0.7753366336633664}\n",
      "Predict       0.0           1.0           \n",
      "Actual\n",
      "0.0           9976309       22691         \n",
      "\n",
      "1.0           22691         78309         \n",
      "\n",
      "\n",
      "epoch:  5  step:  4 / 4\n",
      "Batch Loss:  1.1516546\n",
      "train results: \n",
      "\n",
      "{0.0: 'Very Good', 1.0: 'Very Good'}\n",
      "MCC:  {0.0: 0.7402640264026402, 1.0: 0.7402640264026402}\n",
      "Accuracy:  {0.0: 0.9948572277227723, 1.0: 0.9948572277227723}\n",
      "{'F1 Macro ': 0.8701320132013202} {'F1 Micro': 0.9948572277227723}\n",
      "{'F1 ': {0.0: 0.9974026402640264, 1.0: 0.7428613861386139}}\n",
      "Precision:  {0.0: 0.9974026402640264, 1.0: 0.7428613861386139}\n",
      "recall:  {0.0: 0.9974026402640264, 1.0: 0.7428613861386139}\n",
      "Predict       0.0           1.0           \n",
      "Actual\n",
      "0.0           9973029       25971         \n",
      "\n",
      "1.0           25971         75029         \n",
      "\n",
      "\n",
      "epoch:  5 Train  Loss:  1.008466 \n",
      "\n",
      "epoch:  6  step:  1 / 4\n",
      "Batch Loss:  0.5994128\n",
      "train results: \n",
      "\n",
      "{0.0: 'Very Good', 1.0: 'Very Good'}\n",
      "MCC:  {0.0: 0.7740819325410271, 1.0: 0.7740819325410271}\n",
      "Accuracy:  {0.0: 0.9955268222643123, 1.0: 0.9955268222643123}\n",
      "{'F1 Macro ': 0.8870409662705135} {'F1 Micro': 0.9955268222643123}\n",
      "{'F1 ': {0.0: 0.9977408193254103, 1.0: 0.7763411132156168}}\n",
      "Precision:  {0.0: 0.9977408193254103, 1.0: 0.7763411132156168}\n",
      "recall:  {0.0: 0.9977408193254103, 1.0: 0.7763411132156168}\n",
      "Predict        0.0            1.0            \n",
      "Actual\n",
      "0.0            38800137       87855          \n",
      "\n",
      "1.0            87855          304953         \n",
      "\n",
      "\n",
      "epoch:  6  step:  2 / 4\n",
      "Batch Loss:  0.6950836\n",
      "train results: \n",
      "\n",
      "{0.0: 'Excellent', 1.0: 'Excellent'}\n",
      "MCC:  {0.0: 0.8446844684468446, 1.0: 0.8446844684468446}\n",
      "Accuracy:  {0.0: 0.9969247524752475, 1.0: 0.9969247524752475}\n",
      "{'F1 Macro ': 0.9223422342234223} {'F1 Micro': 0.9969247524752475}\n",
      "{'F1 ': {0.0: 0.9984468446844684, 1.0: 0.8462376237623762}}\n",
      "Precision:  {0.0: 0.9984468446844684, 1.0: 0.8462376237623762}\n",
      "recall:  {0.0: 0.9984468446844684, 1.0: 0.8462376237623762}\n",
      "Predict       0.0           1.0           \n",
      "Actual\n",
      "0.0           9983470       15530         \n",
      "\n",
      "1.0           15530         85470         \n",
      "\n",
      "\n",
      "epoch:  6  step:  3 / 4\n",
      "Batch Loss:  0.67333484\n",
      "train results: \n",
      "\n",
      "{0.0: 'Excellent', 1.0: 'Excellent'}\n",
      "MCC:  {0.0: 0.8502450245024502, 1.0: 0.8502450245024502}\n",
      "Accuracy:  {0.0: 0.9970348514851485, 1.0: 0.9970348514851485}\n",
      "{'F1 Macro ': 0.9251225122512251} {'F1 Micro': 0.9970348514851485}\n",
      "{'F1 ': {0.0: 0.9985024502450245, 1.0: 0.8517425742574257}}\n",
      "Precision:  {0.0: 0.9985024502450245, 1.0: 0.8517425742574257}\n",
      "recall:  {0.0: 0.9985024502450245, 1.0: 0.8517425742574257}\n",
      "Predict       0.0           1.0           \n",
      "Actual\n",
      "0.0           9984026       14974         \n",
      "\n",
      "1.0           14974         86026         \n",
      "\n",
      "\n",
      "epoch:  6  step:  4 / 4\n",
      "Batch Loss:  0.80172306\n",
      "train results: \n",
      "\n",
      "{0.0: 'Excellent', 1.0: 'Excellent'}\n",
      "MCC:  {0.0: 0.8206520652065207, 1.0: 0.8206520652065207}\n",
      "Accuracy:  {0.0: 0.9964489108910891, 1.0: 0.9964489108910891}\n",
      "{'F1 Macro ': 0.9103260326032603} {'F1 Micro': 0.9964489108910891}\n",
      "{'F1 ': {0.0: 0.9982065206520652, 1.0: 0.8224455445544554}}\n",
      "Precision:  {0.0: 0.9982065206520652, 1.0: 0.8224455445544554}\n",
      "recall:  {0.0: 0.9982065206520652, 1.0: 0.8224455445544554}\n",
      "Predict       0.0           1.0           \n",
      "Actual\n",
      "0.0           9981067       17933         \n",
      "\n",
      "1.0           17933         83067         \n",
      "\n",
      "\n",
      "epoch:  6 Train  Loss:  0.7640433 \n",
      "\n",
      "epoch:  7  step:  1 / 4\n",
      "Batch Loss:  0.4841759\n",
      "train results: \n",
      "\n",
      "{0.0: 'Very Good', 1.0: 'Very Good'}\n",
      "MCC:  {0.0: 0.783347003362889, 1.0: 0.783347003362889}\n",
      "Accuracy:  {0.0: 0.9957102706665852, 1.0: 0.9957102706665852}\n",
      "{'F1 Macro ': 0.8916735016814445} {'F1 Micro': 0.9957102706665852}\n",
      "{'F1 ': {0.0: 0.9978334700336289, 1.0: 0.7855135333292601}}\n",
      "Precision:  {0.0: 0.9978334700336289, 1.0: 0.7855135333292601}\n",
      "recall:  {0.0: 0.9978334700336289, 1.0: 0.7855135333292601}\n",
      "Predict        0.0            1.0            \n",
      "Actual\n",
      "0.0            38803740       84252          \n",
      "\n",
      "1.0            84252          308556         \n",
      "\n",
      "\n",
      "epoch:  7  step:  2 / 4\n",
      "Batch Loss:  0.5250544\n",
      "train results: \n",
      "\n",
      "{0.0: 'Excellent', 1.0: 'Excellent'}\n",
      "MCC:  {0.0: 0.8827582758275827, 1.0: 0.8827582758275827}\n",
      "Accuracy:  {0.0: 0.9976786138613861, 1.0: 0.9976786138613861}\n",
      "{'F1 Macro ': 0.9413791379137915} {'F1 Micro': 0.9976786138613861}\n",
      "{'F1 ': {0.0: 0.9988275827582759, 1.0: 0.8839306930693069}}\n",
      "Precision:  {0.0: 0.9988275827582759, 1.0: 0.8839306930693069}\n",
      "recall:  {0.0: 0.9988275827582759, 1.0: 0.8839306930693069}\n",
      "Predict       0.0           1.0           \n",
      "Actual\n",
      "0.0           9987277       11723         \n",
      "\n",
      "1.0           11723         89277         \n",
      "\n",
      "\n",
      "epoch:  7  step:  3 / 4\n",
      "Batch Loss:  0.6027806\n",
      "train results: \n",
      "\n",
      "{0.0: 'Excellent', 1.0: 'Excellent'}\n",
      "MCC:  {0.0: 0.8725372537253725, 1.0: 0.8725372537253725}\n",
      "Accuracy:  {0.0: 0.9974762376237624, 1.0: 0.9974762376237624}\n",
      "{'F1 Macro ': 0.9362686268626863} {'F1 Micro': 0.9974762376237624}\n",
      "{'F1 ': {0.0: 0.9987253725372537, 1.0: 0.8738118811881188}}\n",
      "Precision:  {0.0: 0.9987253725372537, 1.0: 0.8738118811881188}\n",
      "recall:  {0.0: 0.9987253725372537, 1.0: 0.8738118811881188}\n",
      "Predict       0.0           1.0           \n",
      "Actual\n",
      "0.0           9986255       12745         \n",
      "\n",
      "1.0           12745         88255         \n",
      "\n",
      "\n",
      "epoch:  7  step:  4 / 4\n",
      "Batch Loss:  0.58378285\n",
      "train results: \n",
      "\n",
      "{0.0: 'Excellent', 1.0: 'Excellent'}\n",
      "MCC:  {0.0: 0.8602360236023603, 1.0: 0.8602360236023603}\n",
      "Accuracy:  {0.0: 0.9972326732673268, 1.0: 0.9972326732673268}\n",
      "{'F1 Macro ': 0.93011801180118} {'F1 Micro': 0.9972326732673268}\n",
      "{'F1 ': {0.0: 0.9986023602360236, 1.0: 0.8616336633663366}}\n",
      "Precision:  {0.0: 0.9986023602360236, 1.0: 0.8616336633663366}\n",
      "recall:  {0.0: 0.9986023602360236, 1.0: 0.8616336633663366}\n",
      "Predict       0.0           1.0           \n",
      "Actual\n",
      "0.0           9985025       13975         \n",
      "\n",
      "1.0           13975         87025         \n",
      "\n",
      "\n"
     ]
    },
    {
     "name": "stdout",
     "output_type": "stream",
     "text": [
      "epoch:  7 Train  Loss:  0.5874128 \n",
      "\n",
      "epoch:  8  step:  1 / 4\n",
      "Batch Loss:  0.3536482\n",
      "train results: \n",
      "\n",
      "{0.0: 'Excellent', 1.0: 'Excellent'}\n",
      "MCC:  {0.0: 0.8625128291530197, 1.0: 0.8625128291530197}\n",
      "Accuracy:  {0.0: 0.9972777540172298, 1.0: 0.9972777540172298}\n",
      "{'F1 Macro ': 0.9312564145765099} {'F1 Micro': 0.9972777540172298}\n",
      "{'F1 ': {0.0: 0.9986251282915302, 1.0: 0.8638877008614896}}\n",
      "Precision:  {0.0: 0.9986251282915302, 1.0: 0.8638877008614896}\n",
      "recall:  {0.0: 0.9986251282915302, 1.0: 0.8638877008614896}\n",
      "Predict        0.0            1.0            \n",
      "Actual\n",
      "0.0            38834526       53466          \n",
      "\n",
      "1.0            53466          339342         \n",
      "\n",
      "\n",
      "epoch:  8  step:  2 / 4\n",
      "Batch Loss:  0.44707042\n",
      "train results: \n",
      "\n",
      "{0.0: 'Excellent', 1.0: 'Excellent'}\n",
      "MCC:  {0.0: 0.9194619461946195, 1.0: 0.9194619461946195}\n",
      "Accuracy:  {0.0: 0.9984053465346535, 1.0: 0.9984053465346535}\n",
      "{'F1 Macro ': 0.9597309730973098} {'F1 Micro': 0.9984053465346535}\n",
      "{'F1 ': {0.0: 0.9991946194619462, 1.0: 0.9202673267326733}}\n",
      "Precision:  {0.0: 0.9991946194619462, 1.0: 0.9202673267326733}\n",
      "recall:  {0.0: 0.9991946194619462, 1.0: 0.9202673267326733}\n",
      "Predict       0.0           1.0           \n",
      "Actual\n",
      "0.0           9990947       8053          \n",
      "\n",
      "1.0           8053          92947         \n",
      "\n",
      "\n",
      "epoch:  8  step:  3 / 4\n",
      "Batch Loss:  0.47760326\n",
      "train results: \n",
      "\n",
      "{0.0: 'Excellent', 1.0: 'Excellent'}\n",
      "MCC:  {0.0: 0.893079307930793, 1.0: 0.893079307930793}\n",
      "Accuracy:  {0.0: 0.9978829702970297, 1.0: 0.9978829702970297}\n",
      "{'F1 Macro ': 0.9465396539653965} {'F1 Micro': 0.9978829702970297}\n",
      "{'F1 ': {0.0: 0.9989307930793079, 1.0: 0.8941485148514852}}\n",
      "Precision:  {0.0: 0.9989307930793079, 1.0: 0.8941485148514852}\n",
      "recall:  {0.0: 0.9989307930793079, 1.0: 0.8941485148514852}\n",
      "Predict       0.0           1.0           \n",
      "Actual\n",
      "0.0           9988309       10691         \n",
      "\n",
      "1.0           10691         90309         \n",
      "\n",
      "\n",
      "epoch:  8  step:  4 / 4\n",
      "Batch Loss:  0.54082906\n",
      "train results: \n",
      "\n",
      "{0.0: 'Excellent', 1.0: 'Excellent'}\n",
      "MCC:  {0.0: 0.894989498949895, 1.0: 0.894989498949895}\n",
      "Accuracy:  {0.0: 0.9979207920792079, 1.0: 0.9979207920792079}\n",
      "{'F1 Macro ': 0.9474947494749475} {'F1 Micro': 0.9979207920792079}\n",
      "{'F1 ': {0.0: 0.9989498949894989, 1.0: 0.8960396039603961}}\n",
      "Precision:  {0.0: 0.9989498949894989, 1.0: 0.8960396039603961}\n",
      "recall:  {0.0: 0.9989498949894989, 1.0: 0.8960396039603961}\n",
      "Predict       0.0           1.0           \n",
      "Actual\n",
      "0.0           9988500       10500         \n",
      "\n",
      "1.0           10500         90500         \n",
      "\n",
      "\n",
      "epoch:  8 Train  Loss:  0.46957028 \n",
      "\n",
      "epoch:  9  step:  1 / 4\n",
      "Batch Loss:  0.30531144\n",
      "train results: \n",
      "\n",
      "{0.0: 'Excellent', 1.0: 'Excellent'}\n",
      "MCC:  {0.0: 0.9020211688996439, 1.0: 0.9020211688996439}\n",
      "Accuracy:  {0.0: 0.9980600191442129, 1.0: 0.9980600191442129}\n",
      "{'F1 Macro ': 0.951010584449822} {'F1 Micro': 0.9980600191442129}\n",
      "{'F1 ': {0.0: 0.9990202116889965, 1.0: 0.9030009572106474}}\n",
      "Precision:  {0.0: 0.9990202116889965, 1.0: 0.9030009572106474}\n",
      "recall:  {0.0: 0.9990202116889965, 1.0: 0.9030009572106474}\n",
      "Predict        0.0            1.0            \n",
      "Actual\n",
      "0.0            38849890       38102          \n",
      "\n",
      "1.0            38102          354706         \n",
      "\n",
      "\n",
      "epoch:  9  step:  2 / 4\n",
      "Batch Loss:  0.36420515\n",
      "train results: \n",
      "\n",
      "{0.0: 'Excellent', 1.0: 'Excellent'}\n",
      "MCC:  {0.0: 0.9322932293229323, 1.0: 0.9322932293229323}\n",
      "Accuracy:  {0.0: 0.9986594059405941, 1.0: 0.9986594059405941}\n",
      "{'F1 Macro ': 0.9661466146614661} {'F1 Micro': 0.9986594059405941}\n",
      "{'F1 ': {0.0: 0.9993229322932293, 1.0: 0.932970297029703}}\n",
      "Precision:  {0.0: 0.9993229322932293, 1.0: 0.932970297029703}\n",
      "recall:  {0.0: 0.9993229322932293, 1.0: 0.932970297029703}\n",
      "Predict       0.0           1.0           \n",
      "Actual\n",
      "0.0           9992230       6770          \n",
      "\n",
      "1.0           6770          94230         \n",
      "\n",
      "\n"
     ]
    },
    {
     "ename": "KeyboardInterrupt",
     "evalue": "",
     "output_type": "error",
     "traceback": [
      "\u001b[1;31m---------------------------------------------------------------------------\u001b[0m",
      "\u001b[1;31mKeyboardInterrupt\u001b[0m                         Traceback (most recent call last)",
      "\u001b[1;32m<ipython-input-15-01aeb9da2189>\u001b[0m in \u001b[0;36m<module>\u001b[1;34m\u001b[0m\n\u001b[1;32m----> 1\u001b[1;33m \u001b[0mBFT\u001b[0m\u001b[1;33m.\u001b[0m\u001b[0mtrain\u001b[0m\u001b[1;33m(\u001b[0m\u001b[0mmodel_config\u001b[0m\u001b[1;33m,\u001b[0m\u001b[0mml\u001b[0m\u001b[1;33m.\u001b[0m\u001b[0mtrain_v1_1_bert_ready\u001b[0m\u001b[1;33m,\u001b[0m\u001b[0mml\u001b[0m\u001b[1;33m.\u001b[0m\u001b[0mdev_v1_1_bert_ready\u001b[0m\u001b[1;33m,\u001b[0m\u001b[0mepochs\u001b[0m\u001b[1;33m=\u001b[0m\u001b[1;36m100\u001b[0m\u001b[1;33m,\u001b[0m\u001b[0mprint_every\u001b[0m\u001b[1;33m=\u001b[0m\u001b[1;36m100\u001b[0m\u001b[1;33m,\u001b[0m\u001b[0mvalidate_at_epoch\u001b[0m\u001b[1;33m=\u001b[0m\u001b[1;36m0\u001b[0m\u001b[1;33m)\u001b[0m\u001b[1;33m\u001b[0m\u001b[1;33m\u001b[0m\u001b[0m\n\u001b[0m",
      "\u001b[1;32mD:\\GitHub\\BertFineTuning\\BertFineTuning\\question_answering.py\u001b[0m in \u001b[0;36mtrain\u001b[1;34m(self, model_config, train_loader, valid_loader, epochs, print_every, validate_at_epoch)\u001b[0m\n\u001b[0;32m    280\u001b[0m                 \u001b[0mself\u001b[0m\u001b[1;33m.\u001b[0m\u001b[0mloss_history\u001b[0m\u001b[1;33m.\u001b[0m\u001b[0mappend\u001b[0m\u001b[1;33m(\u001b[0m\u001b[0mloss\u001b[0m\u001b[1;33m.\u001b[0m\u001b[0mdetach\u001b[0m\u001b[1;33m(\u001b[0m\u001b[1;33m)\u001b[0m\u001b[1;33m.\u001b[0m\u001b[0mdata\u001b[0m\u001b[1;33m.\u001b[0m\u001b[0mcpu\u001b[0m\u001b[1;33m(\u001b[0m\u001b[1;33m)\u001b[0m\u001b[1;33m.\u001b[0m\u001b[0mnumpy\u001b[0m\u001b[1;33m(\u001b[0m\u001b[1;33m)\u001b[0m\u001b[1;33m)\u001b[0m\u001b[1;33m\u001b[0m\u001b[1;33m\u001b[0m\u001b[0m\n\u001b[0;32m    281\u001b[0m                 \u001b[0mself\u001b[0m\u001b[1;33m.\u001b[0m\u001b[0mlearning_rate\u001b[0m\u001b[1;33m.\u001b[0m\u001b[0mappend\u001b[0m\u001b[1;33m(\u001b[0m\u001b[0mself\u001b[0m\u001b[1;33m.\u001b[0m\u001b[0mscheduler\u001b[0m\u001b[1;33m.\u001b[0m\u001b[0mget_lr\u001b[0m\u001b[1;33m(\u001b[0m\u001b[1;33m)\u001b[0m\u001b[1;33m)\u001b[0m\u001b[1;33m\u001b[0m\u001b[1;33m\u001b[0m\u001b[0m\n\u001b[1;32m--> 282\u001b[1;33m                 \u001b[0mloss\u001b[0m\u001b[1;33m.\u001b[0m\u001b[0mbackward\u001b[0m\u001b[1;33m(\u001b[0m\u001b[1;33m)\u001b[0m\u001b[1;33m\u001b[0m\u001b[1;33m\u001b[0m\u001b[0m\n\u001b[0m\u001b[0;32m    283\u001b[0m                 \u001b[0mself\u001b[0m\u001b[1;33m.\u001b[0m\u001b[0moptimizer\u001b[0m\u001b[1;33m.\u001b[0m\u001b[0mstep\u001b[0m\u001b[1;33m(\u001b[0m\u001b[1;33m)\u001b[0m\u001b[1;33m\u001b[0m\u001b[1;33m\u001b[0m\u001b[0m\n\u001b[0;32m    284\u001b[0m                 \u001b[0mself\u001b[0m\u001b[1;33m.\u001b[0m\u001b[0moptimizer\u001b[0m\u001b[1;33m.\u001b[0m\u001b[0mzero_grad\u001b[0m\u001b[1;33m(\u001b[0m\u001b[1;33m)\u001b[0m\u001b[1;33m\u001b[0m\u001b[1;33m\u001b[0m\u001b[0m\n",
      "\u001b[1;32mD:\\anaconda3\\envs\\devenv\\lib\\site-packages\\torch\\tensor.py\u001b[0m in \u001b[0;36mbackward\u001b[1;34m(self, gradient, retain_graph, create_graph)\u001b[0m\n\u001b[0;32m    116\u001b[0m                 \u001b[0mproducts\u001b[0m\u001b[1;33m.\u001b[0m \u001b[0mDefaults\u001b[0m \u001b[0mto\u001b[0m\u001b[0;31m \u001b[0m\u001b[0;31m`\u001b[0m\u001b[0;31m`\u001b[0m\u001b[1;32mFalse\u001b[0m\u001b[0;31m`\u001b[0m\u001b[0;31m`\u001b[0m\u001b[1;33m.\u001b[0m\u001b[1;33m\u001b[0m\u001b[1;33m\u001b[0m\u001b[0m\n\u001b[0;32m    117\u001b[0m         \"\"\"\n\u001b[1;32m--> 118\u001b[1;33m         \u001b[0mtorch\u001b[0m\u001b[1;33m.\u001b[0m\u001b[0mautograd\u001b[0m\u001b[1;33m.\u001b[0m\u001b[0mbackward\u001b[0m\u001b[1;33m(\u001b[0m\u001b[0mself\u001b[0m\u001b[1;33m,\u001b[0m \u001b[0mgradient\u001b[0m\u001b[1;33m,\u001b[0m \u001b[0mretain_graph\u001b[0m\u001b[1;33m,\u001b[0m \u001b[0mcreate_graph\u001b[0m\u001b[1;33m)\u001b[0m\u001b[1;33m\u001b[0m\u001b[1;33m\u001b[0m\u001b[0m\n\u001b[0m\u001b[0;32m    119\u001b[0m \u001b[1;33m\u001b[0m\u001b[0m\n\u001b[0;32m    120\u001b[0m     \u001b[1;32mdef\u001b[0m \u001b[0mregister_hook\u001b[0m\u001b[1;33m(\u001b[0m\u001b[0mself\u001b[0m\u001b[1;33m,\u001b[0m \u001b[0mhook\u001b[0m\u001b[1;33m)\u001b[0m\u001b[1;33m:\u001b[0m\u001b[1;33m\u001b[0m\u001b[1;33m\u001b[0m\u001b[0m\n",
      "\u001b[1;32mD:\\anaconda3\\envs\\devenv\\lib\\site-packages\\torch\\autograd\\__init__.py\u001b[0m in \u001b[0;36mbackward\u001b[1;34m(tensors, grad_tensors, retain_graph, create_graph, grad_variables)\u001b[0m\n\u001b[0;32m     91\u001b[0m     Variable._execution_engine.run_backward(\n\u001b[0;32m     92\u001b[0m         \u001b[0mtensors\u001b[0m\u001b[1;33m,\u001b[0m \u001b[0mgrad_tensors\u001b[0m\u001b[1;33m,\u001b[0m \u001b[0mretain_graph\u001b[0m\u001b[1;33m,\u001b[0m \u001b[0mcreate_graph\u001b[0m\u001b[1;33m,\u001b[0m\u001b[1;33m\u001b[0m\u001b[1;33m\u001b[0m\u001b[0m\n\u001b[1;32m---> 93\u001b[1;33m         allow_unreachable=True)  # allow_unreachable flag\n\u001b[0m\u001b[0;32m     94\u001b[0m \u001b[1;33m\u001b[0m\u001b[0m\n\u001b[0;32m     95\u001b[0m \u001b[1;33m\u001b[0m\u001b[0m\n",
      "\u001b[1;31mKeyboardInterrupt\u001b[0m: "
     ]
    }
   ],
   "source": [
    "BFT.train(model_config,ml.train_v1_1_bert_ready,ml.dev_v1_1_bert_ready,epochs=100,print_every=100,validate_at_epoch=0)"
   ]
  },
  {
   "cell_type": "code",
   "execution_count": 10,
   "metadata": {},
   "outputs": [
    {
     "data": {
      "text/plain": [
       "<matplotlib.axes._subplots.AxesSubplot at 0x1c25d0929e8>"
      ]
     },
     "execution_count": 10,
     "metadata": {},
     "output_type": "execute_result"
    },
    {
     "data": {
      "image/png": "[encoded data removed]",
      "text/plain": [
       "<Figure size 432x288 with 1 Axes>"
      ]
     },
     "metadata": {
      "needs_background": "light"
     },
     "output_type": "display_data"
    }
   ],
   "source": [
    "pd.DataFrame(BFT.learning_rate).plot()"
   ]
  },
  {
   "cell_type": "code",
   "execution_count": 11,
   "metadata": {},
   "outputs": [
    {
     "data": {
      "text/plain": [
       "<matplotlib.axes._subplots.AxesSubplot at 0x1c25d2b8b00>"
      ]
     },
     "execution_count": 11,
     "metadata": {},
     "output_type": "execute_result"
    },
    {
     "data": {
      "image/png": "[encoded data removed]",
      "text/plain": [
       "<Figure size 432x288 with 1 Axes>"
      ]
     },
     "metadata": {
      "needs_background": "light"
     },
     "output_type": "display_data"
    }
   ],
   "source": [
    "pd.DataFrame([np.mean(item) for item in chunks(BFT.loss_history,100)]).plot()"
   ]
  },
  {
   "cell_type": "code",
   "execution_count": 6,
   "metadata": {},
   "outputs": [],
   "source": [
    "BFT.load_checkpoint(BFT.save_folder+'\\checkpoint7.pth')"
   ]
  },
  {
   "cell_type": "code",
   "execution_count": null,
   "metadata": {
    "scrolled": true
   },
   "outputs": [],
   "source": [
    "df_loss=pd.DataFrame([[np.mean(item) for item in chunks(BFT.loss_history,4900)],BFT.test_loss_history]).T\n",
    "df_loss.index.name='epochs'\n",
    "df_loss.columns=['Train','Test']\n",
    "ax=df_loss.plot(title='loss',grid=True)\n",
    "ax.axvline(2, color=\"red\", linestyle=\"--\")\n",
    "ax.axhline(np.min(BFT.test_loss_history), color=\"red\", linestyle=\"--\")"
   ]
  },
  {
   "cell_type": "code",
   "execution_count": 11,
   "metadata": {},
   "outputs": [
    {
     "data": {
      "image/png": "[encoded data removed]",
      "text/plain": [
       "<Figure size 864x216 with 3 Axes>"
      ]
     },
     "metadata": {
      "needs_background": "light"
     },
     "output_type": "display_data"
    }
   ],
   "source": [
    "df=pd.DataFrame.from_dict([[item.ACC[1],item.F1[1],item.MCC[1]] for i,item in enumerate(BFT.cm_train)])\n",
    "df.columns=['ACC','F1','MCC']\n",
    "df.index.name='epochs'\n",
    "df.plot(subplots=True,figsize=(12,3),layout=(1,3),title='Train results',grid=True);"
   ]
  },
  {
   "cell_type": "code",
   "execution_count": 12,
   "metadata": {
    "scrolled": true
   },
   "outputs": [
    {
     "data": {
      "image/png": "[encoded data removed]",
      "text/plain": [
       "<Figure size 864x216 with 3 Axes>"
      ]
     },
     "metadata": {
      "needs_background": "light"
     },
     "output_type": "display_data"
    }
   ],
   "source": [
    "df=pd.DataFrame.from_dict([[item.ACC[1],item.F1[1],item.MCC[1]] for i,item in enumerate(BFT.cm_test)])\n",
    "df.columns=['ACC','F1','MCC']\n",
    "df.index.name='epochs'\n",
    "df.plot(subplots=True,figsize=(12,3),layout=(1,3),title='Test results',grid=True);"
   ]
  },
  {
   "cell_type": "code",
   "execution_count": 5,
   "metadata": {},
   "outputs": [],
   "source": [
    "from transformers import BertTokenizer, BertForQuestionAnswering,DistilBertForQuestionAnswering, BertConfig"
   ]
  },
  {
   "cell_type": "code",
   "execution_count": 10,
   "metadata": {},
   "outputs": [],
   "source": [
    "x=BertForQuestionAnswering.from_pretrained('bert-base-uncased')"
   ]
  },
  {
   "cell_type": "code",
   "execution_count": 7,
   "metadata": {},
   "outputs": [],
   "source": [
    "import pandas as pd\n",
    "%matplotlib inline"
   ]
  },
  {
   "cell_type": "code",
   "execution_count": 8,
   "metadata": {},
   "outputs": [],
   "source": [
    "df=pd.read_csv('./data/processed/dev_v1_1_1.csv')"
   ]
  },
  {
   "cell_type": "code",
   "execution_count": 14,
   "metadata": {},
   "outputs": [
    {
     "data": {
      "text/html": [
       "<div>\n",
       "<style scoped>\n",
       "    .dataframe tbody tr th:only-of-type {\n",
       "        vertical-align: middle;\n",
       "    }\n",
       "\n",
       "    .dataframe tbody tr th {\n",
       "        vertical-align: top;\n",
       "    }\n",
       "\n",
       "    .dataframe thead th {\n",
       "        text-align: right;\n",
       "    }\n",
       "</style>\n",
       "<table border=\"1\" class=\"dataframe\">\n",
       "  <thead>\n",
       "    <tr style=\"text-align: right;\">\n",
       "      <th></th>\n",
       "      <th>Unnamed: 0</th>\n",
       "      <th>qa_id</th>\n",
       "      <th>start_label</th>\n",
       "      <th>end_label</th>\n",
       "      <th>text</th>\n",
       "      <th>total_tokens</th>\n",
       "    </tr>\n",
       "  </thead>\n",
       "  <tbody>\n",
       "    <tr>\n",
       "      <td>0</td>\n",
       "      <td>0</td>\n",
       "      <td>5733be284776f41900661182</td>\n",
       "      <td>130</td>\n",
       "      <td>138</td>\n",
       "      <td>[CLS] To whom did the Virgin Mary allegedly ap...</td>\n",
       "      <td>192</td>\n",
       "    </tr>\n",
       "    <tr>\n",
       "      <td>1</td>\n",
       "      <td>1</td>\n",
       "      <td>5733be284776f4190066117f</td>\n",
       "      <td>52</td>\n",
       "      <td>57</td>\n",
       "      <td>[CLS] What is in front of the Notre Dame Main ...</td>\n",
       "      <td>184</td>\n",
       "    </tr>\n",
       "    <tr>\n",
       "      <td>2</td>\n",
       "      <td>2</td>\n",
       "      <td>5733be284776f41900661180</td>\n",
       "      <td>28</td>\n",
       "      <td>31</td>\n",
       "      <td>[CLS] The Basilica of the Sacred heart at Notr...</td>\n",
       "      <td>192</td>\n",
       "    </tr>\n",
       "    <tr>\n",
       "      <td>3</td>\n",
       "      <td>3</td>\n",
       "      <td>5733be284776f41900661181</td>\n",
       "      <td>95</td>\n",
       "      <td>102</td>\n",
       "      <td>[CLS] What is the Grotto at Notre Dame? [SEP] ...</td>\n",
       "      <td>180</td>\n",
       "    </tr>\n",
       "    <tr>\n",
       "      <td>4</td>\n",
       "      <td>4</td>\n",
       "      <td>5733be284776f4190066117e</td>\n",
       "      <td>33</td>\n",
       "      <td>40</td>\n",
       "      <td>[CLS] What sits on top of the Main Building at...</td>\n",
       "      <td>186</td>\n",
       "    </tr>\n",
       "  </tbody>\n",
       "</table>\n",
       "</div>"
      ],
      "text/plain": [
       "   Unnamed: 0                     qa_id  start_label  end_label  \\\n",
       "0           0  5733be284776f41900661182          130        138   \n",
       "1           1  5733be284776f4190066117f           52         57   \n",
       "2           2  5733be284776f41900661180           28         31   \n",
       "3           3  5733be284776f41900661181           95        102   \n",
       "4           4  5733be284776f4190066117e           33         40   \n",
       "\n",
       "                                                text  total_tokens  \n",
       "0  [CLS] To whom did the Virgin Mary allegedly ap...           192  \n",
       "1  [CLS] What is in front of the Notre Dame Main ...           184  \n",
       "2  [CLS] The Basilica of the Sacred heart at Notr...           192  \n",
       "3  [CLS] What is the Grotto at Notre Dame? [SEP] ...           180  \n",
       "4  [CLS] What sits on top of the Main Building at...           186  "
      ]
     },
     "execution_count": 14,
     "metadata": {},
     "output_type": "execute_result"
    }
   ],
   "source": [
    "df.head()"
   ]
  },
  {
   "cell_type": "code",
   "execution_count": 15,
   "metadata": {},
   "outputs": [
    {
     "data": {
      "image/png": "[encoded data removed]",
      "text/plain": [
       "<Figure size 432x288 with 1 Axes>"
      ]
     },
     "metadata": {
      "needs_background": "light"
     },
     "output_type": "display_data"
    }
   ],
   "source": [
    "df.hist('total_tokens');"
   ]
  },
  {
   "cell_type": "code",
   "execution_count": 12,
   "metadata": {},
   "outputs": [
    {
     "data": {
      "image/png": "[encoded data removed]",
      "text/plain": [
       "<Figure size 432x288 with 1 Axes>"
      ]
     },
     "metadata": {
      "needs_background": "light"
     },
     "output_type": "display_data"
    }
   ],
   "source": [
    "df.hist('start_label');"
   ]
  },
  {
   "cell_type": "code",
   "execution_count": 13,
   "metadata": {},
   "outputs": [
    {
     "data": {
      "image/png": "[encoded data removed]",
      "text/plain": [
       "<Figure size 432x288 with 1 Axes>"
      ]
     },
     "metadata": {
      "needs_background": "light"
     },
     "output_type": "display_data"
    }
   ],
   "source": [
    "df.boxplot('start_label');"
   ]
  },
  {
   "cell_type": "code",
   "execution_count": 11,
   "metadata": {},
   "outputs": [
    {
     "data": {
      "image/png": "[encoded data removed]",
      "text/plain": [
       "<Figure size 432x288 with 1 Axes>"
      ]
     },
     "metadata": {
      "needs_background": "light"
     },
     "output_type": "display_data"
    }
   ],
   "source": [
    "df.hist('end_label');"
   ]
  },
  {
   "cell_type": "code",
   "execution_count": 16,
   "metadata": {},
   "outputs": [
    {
     "data": {
      "text/plain": [
       "(87598, 10)"
      ]
     },
     "execution_count": 16,
     "metadata": {},
     "output_type": "execute_result"
    }
   ],
   "source": [
    "df[df.isna()].shape"
   ]
  },
  {
   "cell_type": "code",
   "execution_count": 17,
   "metadata": {},
   "outputs": [],
   "source": [
    "new_df=df[~df.isna()]"
   ]
  },
  {
   "cell_type": "code",
   "execution_count": 18,
   "metadata": {},
   "outputs": [],
   "source": [
    "new_df.to_csv('./data/processed/dev_v1_1_2.csv')"
   ]
  }
 ],
 "metadata": {
  "kernelspec": {
   "display_name": "Python [conda env:devenv] *",
   "language": "python",
   "name": "conda-env-devenv-py"
  },
  "language_info": {
   "codemirror_mode": {
    "name": "ipython",
    "version": 3
   },
   "file_extension": ".py",
   "mimetype": "text/x-python",
   "name": "python",
   "nbconvert_exporter": "python",
   "pygments_lexer": "ipython3",
   "version": "3.7.3"
  }
 },
 "nbformat": 4,
 "nbformat_minor": 2
}
